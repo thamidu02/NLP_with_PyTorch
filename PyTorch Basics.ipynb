{
 "cells": [
  {
   "cell_type": "code",
   "id": "initial_id",
   "metadata": {
    "collapsed": true,
    "ExecuteTime": {
     "end_time": "2025-07-10T08:38:48.675197Z",
     "start_time": "2025-07-10T08:38:48.669273Z"
    }
   },
   "source": [
    "def describe(x):\n",
    "    print(\"Type: \".format(x.type()))\n",
    "    print(\"Shape/size:\".format(x.shape))\n",
    "    print(\"Values: \\n{}\".format(x))\n"
   ],
   "outputs": [],
   "execution_count": 1
  },
  {
   "metadata": {
    "ExecuteTime": {
     "end_time": "2025-07-10T08:39:14.411525Z",
     "start_time": "2025-07-10T08:39:12.353648Z"
    }
   },
   "cell_type": "code",
   "source": [
    "import torch\n",
    "describe(torch.Tensor(2,3))"
   ],
   "id": "4979b95c5b698526",
   "outputs": [
    {
     "name": "stdout",
     "output_type": "stream",
     "text": [
      "Type: \n",
      "Shape/size:\n",
      "Values: \n",
      "tensor([[0., 0., 0.],\n",
      "        [0., 0., 0.]])\n"
     ]
    }
   ],
   "execution_count": 2
  },
  {
   "metadata": {
    "ExecuteTime": {
     "end_time": "2025-07-10T08:45:03.167391Z",
     "start_time": "2025-07-10T08:45:03.088810Z"
    }
   },
   "cell_type": "code",
   "source": "describe(torch.Tensor(5,3))",
   "id": "e9dc254c0630f2cc",
   "outputs": [
    {
     "name": "stdout",
     "output_type": "stream",
     "text": [
      "Type: \n",
      "Shape/size:\n",
      "Values: \n",
      "tensor([[-4.1337e-28,  1.1855e-42,  0.0000e+00],\n",
      "        [ 0.0000e+00,  0.0000e+00,  0.0000e+00],\n",
      "        [ 0.0000e+00,  0.0000e+00,  0.0000e+00],\n",
      "        [ 0.0000e+00,  0.0000e+00,  0.0000e+00],\n",
      "        [ 0.0000e+00,  0.0000e+00,  0.0000e+00]])\n"
     ]
    }
   ],
   "execution_count": 3
  },
  {
   "metadata": {},
   "cell_type": "code",
   "outputs": [],
   "execution_count": null,
   "source": "",
   "id": "1cd8bd0912142e08"
  }
 ],
 "metadata": {
  "kernelspec": {
   "display_name": "Python 3",
   "language": "python",
   "name": "python3"
  },
  "language_info": {
   "codemirror_mode": {
    "name": "ipython",
    "version": 2
   },
   "file_extension": ".py",
   "mimetype": "text/x-python",
   "name": "python",
   "nbconvert_exporter": "python",
   "pygments_lexer": "ipython2",
   "version": "2.7.6"
  }
 },
 "nbformat": 4,
 "nbformat_minor": 5
}
