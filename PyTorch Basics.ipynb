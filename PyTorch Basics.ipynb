{
 "cells": [
  {
   "cell_type": "code",
   "id": "initial_id",
   "metadata": {
    "collapsed": true,
    "ExecuteTime": {
     "end_time": "2025-07-10T09:31:35.008875Z",
     "start_time": "2025-07-10T09:31:34.993317Z"
    }
   },
   "source": [
    "def describe(x):\n",
    "    print(\"Type: \",x.type())\n",
    "    print(\"Shape/size:\",x.shape)\n",
    "    print(\"Values: \\n{}\".format(x))\n"
   ],
   "outputs": [],
   "execution_count": 26
  },
  {
   "metadata": {
    "ExecuteTime": {
     "end_time": "2025-07-10T09:31:37.416209Z",
     "start_time": "2025-07-10T09:31:37.409097Z"
    }
   },
   "cell_type": "code",
   "source": [
    "import torch\n",
    "describe(torch.Tensor(2,3))"
   ],
   "id": "4979b95c5b698526",
   "outputs": [
    {
     "name": "stdout",
     "output_type": "stream",
     "text": [
      "Type:  torch.FloatTensor\n",
      "Shape/size: torch.Size([2, 3])\n",
      "Values: \n",
      "tensor([[0.5730, 1.2311, 1.4583],\n",
      "        [0.5106, 1.1654, 0.0743]])\n"
     ]
    }
   ],
   "execution_count": 27
  },
  {
   "metadata": {
    "ExecuteTime": {
     "end_time": "2025-07-10T09:31:38.970009Z",
     "start_time": "2025-07-10T09:31:38.960660Z"
    }
   },
   "cell_type": "code",
   "source": "describe(torch.Tensor(5,3))",
   "id": "e9dc254c0630f2cc",
   "outputs": [
    {
     "name": "stdout",
     "output_type": "stream",
     "text": [
      "Type:  torch.FloatTensor\n",
      "Shape/size: torch.Size([5, 3])\n",
      "Values: \n",
      "tensor([[-4.1342e-28,  1.1855e-42,  0.0000e+00],\n",
      "        [ 0.0000e+00,  0.0000e+00,  0.0000e+00],\n",
      "        [ 0.0000e+00,  0.0000e+00,  0.0000e+00],\n",
      "        [ 0.0000e+00,  0.0000e+00,  0.0000e+00],\n",
      "        [ 0.0000e+00,  0.0000e+00,  0.0000e+00]])\n"
     ]
    }
   ],
   "execution_count": 28
  },
  {
   "metadata": {
    "ExecuteTime": {
     "end_time": "2025-07-10T09:31:39.286168Z",
     "start_time": "2025-07-10T09:31:39.273360Z"
    }
   },
   "cell_type": "code",
   "source": "describe(torch.rand(2,3))",
   "id": "1cd8bd0912142e08",
   "outputs": [
    {
     "name": "stdout",
     "output_type": "stream",
     "text": [
      "Type:  torch.FloatTensor\n",
      "Shape/size: torch.Size([2, 3])\n",
      "Values: \n",
      "tensor([[0.3032, 0.5932, 0.0966],\n",
      "        [0.5131, 0.5479, 0.0600]])\n"
     ]
    }
   ],
   "execution_count": 29
  },
  {
   "metadata": {
    "ExecuteTime": {
     "end_time": "2025-07-10T09:31:39.442954Z",
     "start_time": "2025-07-10T09:31:39.430567Z"
    }
   },
   "cell_type": "code",
   "source": "describe(torch.randn(2,3))",
   "id": "fc223caa279b4d3a",
   "outputs": [
    {
     "name": "stdout",
     "output_type": "stream",
     "text": [
      "Type:  torch.FloatTensor\n",
      "Shape/size: torch.Size([2, 3])\n",
      "Values: \n",
      "tensor([[ 1.3656, -0.3477,  1.1114],\n",
      "        [-0.5743,  1.1999,  0.9785]])\n"
     ]
    }
   ],
   "execution_count": 30
  },
  {
   "metadata": {
    "ExecuteTime": {
     "end_time": "2025-07-10T09:31:39.583115Z",
     "start_time": "2025-07-10T09:31:39.573291Z"
    }
   },
   "cell_type": "code",
   "source": "describe(torch.zeros(2,3))",
   "id": "ef6d0cd529d22d5",
   "outputs": [
    {
     "name": "stdout",
     "output_type": "stream",
     "text": [
      "Type:  torch.FloatTensor\n",
      "Shape/size: torch.Size([2, 3])\n",
      "Values: \n",
      "tensor([[0., 0., 0.],\n",
      "        [0., 0., 0.]])\n"
     ]
    }
   ],
   "execution_count": 31
  },
  {
   "metadata": {
    "ExecuteTime": {
     "end_time": "2025-07-10T09:31:39.737014Z",
     "start_time": "2025-07-10T09:31:39.727414Z"
    }
   },
   "cell_type": "code",
   "source": [
    "x=torch.ones(2,3)\n",
    "describe(x)"
   ],
   "id": "8b4ff83454cba8a5",
   "outputs": [
    {
     "name": "stdout",
     "output_type": "stream",
     "text": [
      "Type:  torch.FloatTensor\n",
      "Shape/size: torch.Size([2, 3])\n",
      "Values: \n",
      "tensor([[1., 1., 1.],\n",
      "        [1., 1., 1.]])\n"
     ]
    }
   ],
   "execution_count": 32
  },
  {
   "metadata": {
    "ExecuteTime": {
     "end_time": "2025-07-10T09:31:39.883762Z",
     "start_time": "2025-07-10T09:31:39.871981Z"
    }
   },
   "cell_type": "code",
   "source": [
    "x.fill_(5) # We can also create tensors all filled with the same scalar. For creating a tensor of zeros or ones, we have built-in functions, and for filling it with specific values, we can use the fill_() method. Any PyTorch method with an underscore (_) refers to an in-place operation; that is, it modifies the content in place without creating a new object\n",
    "describe(x)"
   ],
   "id": "ef5c49df951e85ca",
   "outputs": [
    {
     "name": "stdout",
     "output_type": "stream",
     "text": [
      "Type:  torch.FloatTensor\n",
      "Shape/size: torch.Size([2, 3])\n",
      "Values: \n",
      "tensor([[5., 5., 5.],\n",
      "        [5., 5., 5.]])\n"
     ]
    }
   ],
   "execution_count": 33
  },
  {
   "metadata": {
    "ExecuteTime": {
     "end_time": "2025-07-10T09:31:40.036011Z",
     "start_time": "2025-07-10T09:31:40.030224Z"
    }
   },
   "cell_type": "code",
   "source": [
    "x=torch.tensor([[1,2,3],\n",
    "               [4,5,6]])\n",
    "describe(x)"
   ],
   "id": "f8b2ab5048166dd3",
   "outputs": [
    {
     "name": "stdout",
     "output_type": "stream",
     "text": [
      "Type:  torch.LongTensor\n",
      "Shape/size: torch.Size([2, 3])\n",
      "Values: \n",
      "tensor([[1, 2, 3],\n",
      "        [4, 5, 6]])\n"
     ]
    }
   ],
   "execution_count": 34
  },
  {
   "metadata": {
    "ExecuteTime": {
     "end_time": "2025-07-10T09:32:04.992691Z",
     "start_time": "2025-07-10T09:32:04.985055Z"
    }
   },
   "cell_type": "code",
   "source": "import numpy as np",
   "id": "6a4435e6803941ef",
   "outputs": [],
   "execution_count": 35
  },
  {
   "metadata": {
    "ExecuteTime": {
     "end_time": "2025-07-10T09:32:47.538317Z",
     "start_time": "2025-07-10T09:32:47.518804Z"
    }
   },
   "cell_type": "code",
   "source": [
    "arr=np.random.standard_normal((2,3))\n",
    "describe(torch.from_numpy(arr))"
   ],
   "id": "d4ec38e1b66c769",
   "outputs": [
    {
     "name": "stdout",
     "output_type": "stream",
     "text": [
      "Type:  torch.DoubleTensor\n",
      "Shape/size: torch.Size([2, 3])\n",
      "Values: \n",
      "tensor([[ 1.2028,  0.6019, -0.6125],\n",
      "        [-2.7857,  1.6913, -0.5847]], dtype=torch.float64)\n"
     ]
    }
   ],
   "execution_count": 37
  },
  {
   "metadata": {
    "ExecuteTime": {
     "end_time": "2025-07-10T09:34:48.324033Z",
     "start_time": "2025-07-10T09:34:48.318008Z"
    }
   },
   "cell_type": "code",
   "source": [
    "x=torch.FloatTensor([[1,2,3],\n",
    "                     [4,5,6]])\n",
    "describe(x)"
   ],
   "id": "4cc433847df59ef8",
   "outputs": [
    {
     "name": "stdout",
     "output_type": "stream",
     "text": [
      "Type:  torch.FloatTensor\n",
      "Shape/size: torch.Size([2, 3])\n",
      "Values: \n",
      "tensor([[1., 2., 3.],\n",
      "        [4., 5., 6.]])\n"
     ]
    }
   ],
   "execution_count": 39
  },
  {
   "metadata": {
    "ExecuteTime": {
     "end_time": "2025-07-10T09:35:10.107720Z",
     "start_time": "2025-07-10T09:35:10.102174Z"
    }
   },
   "cell_type": "code",
   "source": [
    "x=x.long()\n",
    "describe(x)"
   ],
   "id": "9fb4ee2e4c9d8fa4",
   "outputs": [
    {
     "name": "stdout",
     "output_type": "stream",
     "text": [
      "Type:  torch.LongTensor\n",
      "Shape/size: torch.Size([2, 3])\n",
      "Values: \n",
      "tensor([[1, 2, 3],\n",
      "        [4, 5, 6]])\n"
     ]
    }
   ],
   "execution_count": 41
  },
  {
   "metadata": {},
   "cell_type": "code",
   "outputs": [],
   "execution_count": null,
   "source": "",
   "id": "7c16f1fe55a7b830"
  }
 ],
 "metadata": {
  "kernelspec": {
   "display_name": "Python 3",
   "language": "python",
   "name": "python3"
  },
  "language_info": {
   "codemirror_mode": {
    "name": "ipython",
    "version": 2
   },
   "file_extension": ".py",
   "mimetype": "text/x-python",
   "name": "python",
   "nbconvert_exporter": "python",
   "pygments_lexer": "ipython2",
   "version": "2.7.6"
  }
 },
 "nbformat": 4,
 "nbformat_minor": 5
}
