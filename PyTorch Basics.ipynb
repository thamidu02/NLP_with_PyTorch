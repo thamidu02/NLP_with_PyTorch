{
 "cells": [
  {
   "cell_type": "code",
   "id": "initial_id",
   "metadata": {
    "collapsed": true,
    "ExecuteTime": {
     "end_time": "2025-07-10T09:31:35.008875Z",
     "start_time": "2025-07-10T09:31:34.993317Z"
    }
   },
   "source": [
    "def describe(x):\n",
    "    print(\"Type: \",x.type())\n",
    "    print(\"Shape/size:\",x.shape)\n",
    "    print(\"Values: \\n{}\".format(x))\n"
   ],
   "outputs": [],
   "execution_count": 26
  },
  {
   "metadata": {
    "ExecuteTime": {
     "end_time": "2025-07-10T09:31:37.416209Z",
     "start_time": "2025-07-10T09:31:37.409097Z"
    }
   },
   "cell_type": "code",
   "source": [
    "import torch\n",
    "describe(torch.Tensor(2,3))"
   ],
   "id": "4979b95c5b698526",
   "outputs": [
    {
     "name": "stdout",
     "output_type": "stream",
     "text": [
      "Type:  torch.FloatTensor\n",
      "Shape/size: torch.Size([2, 3])\n",
      "Values: \n",
      "tensor([[0.5730, 1.2311, 1.4583],\n",
      "        [0.5106, 1.1654, 0.0743]])\n"
     ]
    }
   ],
   "execution_count": 27
  },
  {
   "metadata": {
    "ExecuteTime": {
     "end_time": "2025-07-10T09:31:38.970009Z",
     "start_time": "2025-07-10T09:31:38.960660Z"
    }
   },
   "cell_type": "code",
   "source": "describe(torch.Tensor(5,3))",
   "id": "e9dc254c0630f2cc",
   "outputs": [
    {
     "name": "stdout",
     "output_type": "stream",
     "text": [
      "Type:  torch.FloatTensor\n",
      "Shape/size: torch.Size([5, 3])\n",
      "Values: \n",
      "tensor([[-4.1342e-28,  1.1855e-42,  0.0000e+00],\n",
      "        [ 0.0000e+00,  0.0000e+00,  0.0000e+00],\n",
      "        [ 0.0000e+00,  0.0000e+00,  0.0000e+00],\n",
      "        [ 0.0000e+00,  0.0000e+00,  0.0000e+00],\n",
      "        [ 0.0000e+00,  0.0000e+00,  0.0000e+00]])\n"
     ]
    }
   ],
   "execution_count": 28
  },
  {
   "metadata": {
    "ExecuteTime": {
     "end_time": "2025-07-10T09:31:39.286168Z",
     "start_time": "2025-07-10T09:31:39.273360Z"
    }
   },
   "cell_type": "code",
   "source": "describe(torch.rand(2,3))",
   "id": "1cd8bd0912142e08",
   "outputs": [
    {
     "name": "stdout",
     "output_type": "stream",
     "text": [
      "Type:  torch.FloatTensor\n",
      "Shape/size: torch.Size([2, 3])\n",
      "Values: \n",
      "tensor([[0.3032, 0.5932, 0.0966],\n",
      "        [0.5131, 0.5479, 0.0600]])\n"
     ]
    }
   ],
   "execution_count": 29
  },
  {
   "metadata": {
    "ExecuteTime": {
     "end_time": "2025-07-10T09:31:39.442954Z",
     "start_time": "2025-07-10T09:31:39.430567Z"
    }
   },
   "cell_type": "code",
   "source": "describe(torch.randn(2,3))",
   "id": "fc223caa279b4d3a",
   "outputs": [
    {
     "name": "stdout",
     "output_type": "stream",
     "text": [
      "Type:  torch.FloatTensor\n",
      "Shape/size: torch.Size([2, 3])\n",
      "Values: \n",
      "tensor([[ 1.3656, -0.3477,  1.1114],\n",
      "        [-0.5743,  1.1999,  0.9785]])\n"
     ]
    }
   ],
   "execution_count": 30
  },
  {
   "metadata": {
    "ExecuteTime": {
     "end_time": "2025-07-10T09:31:39.583115Z",
     "start_time": "2025-07-10T09:31:39.573291Z"
    }
   },
   "cell_type": "code",
   "source": "describe(torch.zeros(2,3))",
   "id": "ef6d0cd529d22d5",
   "outputs": [
    {
     "name": "stdout",
     "output_type": "stream",
     "text": [
      "Type:  torch.FloatTensor\n",
      "Shape/size: torch.Size([2, 3])\n",
      "Values: \n",
      "tensor([[0., 0., 0.],\n",
      "        [0., 0., 0.]])\n"
     ]
    }
   ],
   "execution_count": 31
  },
  {
   "metadata": {
    "ExecuteTime": {
     "end_time": "2025-07-10T09:31:39.737014Z",
     "start_time": "2025-07-10T09:31:39.727414Z"
    }
   },
   "cell_type": "code",
   "source": [
    "x=torch.ones(2,3)\n",
    "describe(x)"
   ],
   "id": "8b4ff83454cba8a5",
   "outputs": [
    {
     "name": "stdout",
     "output_type": "stream",
     "text": [
      "Type:  torch.FloatTensor\n",
      "Shape/size: torch.Size([2, 3])\n",
      "Values: \n",
      "tensor([[1., 1., 1.],\n",
      "        [1., 1., 1.]])\n"
     ]
    }
   ],
   "execution_count": 32
  },
  {
   "metadata": {
    "ExecuteTime": {
     "end_time": "2025-07-10T09:31:39.883762Z",
     "start_time": "2025-07-10T09:31:39.871981Z"
    }
   },
   "cell_type": "code",
   "source": [
    "x.fill_(5) # We can also create tensors all filled with the same scalar. For creating a tensor of zeros or ones, we have built-in functions, and for filling it with specific values, we can use the fill_() method. Any PyTorch method with an underscore (_) refers to an in-place operation; that is, it modifies the content in place without creating a new object\n",
    "describe(x)"
   ],
   "id": "ef5c49df951e85ca",
   "outputs": [
    {
     "name": "stdout",
     "output_type": "stream",
     "text": [
      "Type:  torch.FloatTensor\n",
      "Shape/size: torch.Size([2, 3])\n",
      "Values: \n",
      "tensor([[5., 5., 5.],\n",
      "        [5., 5., 5.]])\n"
     ]
    }
   ],
   "execution_count": 33
  },
  {
   "metadata": {
    "ExecuteTime": {
     "end_time": "2025-07-10T09:31:40.036011Z",
     "start_time": "2025-07-10T09:31:40.030224Z"
    }
   },
   "cell_type": "code",
   "source": [
    "x=torch.tensor([[1,2,3],\n",
    "               [4,5,6]])\n",
    "describe(x)"
   ],
   "id": "f8b2ab5048166dd3",
   "outputs": [
    {
     "name": "stdout",
     "output_type": "stream",
     "text": [
      "Type:  torch.LongTensor\n",
      "Shape/size: torch.Size([2, 3])\n",
      "Values: \n",
      "tensor([[1, 2, 3],\n",
      "        [4, 5, 6]])\n"
     ]
    }
   ],
   "execution_count": 34
  },
  {
   "metadata": {
    "ExecuteTime": {
     "end_time": "2025-07-10T09:32:04.992691Z",
     "start_time": "2025-07-10T09:32:04.985055Z"
    }
   },
   "cell_type": "code",
   "source": "import numpy as np",
   "id": "6a4435e6803941ef",
   "outputs": [],
   "execution_count": 35
  },
  {
   "metadata": {
    "ExecuteTime": {
     "end_time": "2025-07-10T09:32:47.538317Z",
     "start_time": "2025-07-10T09:32:47.518804Z"
    }
   },
   "cell_type": "code",
   "source": [
    "arr=np.random.standard_normal((2,3))\n",
    "describe(torch.from_numpy(arr))"
   ],
   "id": "d4ec38e1b66c769",
   "outputs": [
    {
     "name": "stdout",
     "output_type": "stream",
     "text": [
      "Type:  torch.DoubleTensor\n",
      "Shape/size: torch.Size([2, 3])\n",
      "Values: \n",
      "tensor([[ 1.2028,  0.6019, -0.6125],\n",
      "        [-2.7857,  1.6913, -0.5847]], dtype=torch.float64)\n"
     ]
    }
   ],
   "execution_count": 37
  },
  {
   "metadata": {
    "ExecuteTime": {
     "end_time": "2025-07-10T09:34:48.324033Z",
     "start_time": "2025-07-10T09:34:48.318008Z"
    }
   },
   "cell_type": "code",
   "source": [
    "x=torch.FloatTensor([[1,2,3],\n",
    "                     [4,5,6]])\n",
    "describe(x)"
   ],
   "id": "4cc433847df59ef8",
   "outputs": [
    {
     "name": "stdout",
     "output_type": "stream",
     "text": [
      "Type:  torch.FloatTensor\n",
      "Shape/size: torch.Size([2, 3])\n",
      "Values: \n",
      "tensor([[1., 2., 3.],\n",
      "        [4., 5., 6.]])\n"
     ]
    }
   ],
   "execution_count": 39
  },
  {
   "metadata": {
    "ExecuteTime": {
     "end_time": "2025-07-10T09:35:10.107720Z",
     "start_time": "2025-07-10T09:35:10.102174Z"
    }
   },
   "cell_type": "code",
   "source": [
    "x=x.long()\n",
    "describe(x)"
   ],
   "id": "9fb4ee2e4c9d8fa4",
   "outputs": [
    {
     "name": "stdout",
     "output_type": "stream",
     "text": [
      "Type:  torch.LongTensor\n",
      "Shape/size: torch.Size([2, 3])\n",
      "Values: \n",
      "tensor([[1, 2, 3],\n",
      "        [4, 5, 6]])\n"
     ]
    }
   ],
   "execution_count": 41
  },
  {
   "metadata": {
    "ExecuteTime": {
     "end_time": "2025-07-10T09:37:45.604220Z",
     "start_time": "2025-07-10T09:37:45.597327Z"
    }
   },
   "cell_type": "code",
   "source": [
    "x=torch.tensor([[1,2,3],\n",
    "                [4,5,6]],dtype=torch.int64)\n",
    "describe(x)"
   ],
   "id": "7c16f1fe55a7b830",
   "outputs": [
    {
     "name": "stdout",
     "output_type": "stream",
     "text": [
      "Type:  torch.LongTensor\n",
      "Shape/size: torch.Size([2, 3])\n",
      "Values: \n",
      "tensor([[1, 2, 3],\n",
      "        [4, 5, 6]])\n"
     ]
    }
   ],
   "execution_count": 45
  },
  {
   "metadata": {
    "ExecuteTime": {
     "end_time": "2025-07-10T09:38:09.481689Z",
     "start_time": "2025-07-10T09:38:09.465179Z"
    }
   },
   "cell_type": "code",
   "source": "x.size()",
   "id": "647996617b421b90",
   "outputs": [
    {
     "data": {
      "text/plain": [
       "torch.Size([2, 3])"
      ]
     },
     "execution_count": 46,
     "metadata": {},
     "output_type": "execute_result"
    }
   ],
   "execution_count": 46
  },
  {
   "metadata": {},
   "cell_type": "markdown",
   "source": "### Tensor Operations",
   "id": "2d8220bf69b8a804"
  },
  {
   "metadata": {
    "ExecuteTime": {
     "end_time": "2025-07-10T09:39:48.564069Z",
     "start_time": "2025-07-10T09:39:48.537980Z"
    }
   },
   "cell_type": "code",
   "source": [
    "x=torch.randn(2,3)\n",
    "describe(x)"
   ],
   "id": "3e3956bf9408893c",
   "outputs": [
    {
     "name": "stdout",
     "output_type": "stream",
     "text": [
      "Type:  torch.FloatTensor\n",
      "Shape/size: torch.Size([2, 3])\n",
      "Values: \n",
      "tensor([[ 1.6702, -1.1409, -1.6980],\n",
      "        [-0.6863, -1.8059, -0.8677]])\n"
     ]
    }
   ],
   "execution_count": 47
  },
  {
   "metadata": {
    "ExecuteTime": {
     "end_time": "2025-07-10T09:40:09.528955Z",
     "start_time": "2025-07-10T09:40:09.507101Z"
    }
   },
   "cell_type": "code",
   "source": "describe(torch.add(x,x))",
   "id": "c5aa8ce90ea66463",
   "outputs": [
    {
     "name": "stdout",
     "output_type": "stream",
     "text": [
      "Type:  torch.FloatTensor\n",
      "Shape/size: torch.Size([2, 3])\n",
      "Values: \n",
      "tensor([[ 3.3404, -2.2818, -3.3960],\n",
      "        [-1.3727, -3.6119, -1.7355]])\n"
     ]
    }
   ],
   "execution_count": 48
  },
  {
   "metadata": {
    "ExecuteTime": {
     "end_time": "2025-07-10T09:40:46.466048Z",
     "start_time": "2025-07-10T09:40:46.459902Z"
    }
   },
   "cell_type": "code",
   "source": "describe(x+x)",
   "id": "1172c4d5d90650b",
   "outputs": [
    {
     "name": "stdout",
     "output_type": "stream",
     "text": [
      "Type:  torch.FloatTensor\n",
      "Shape/size: torch.Size([2, 3])\n",
      "Values: \n",
      "tensor([[ 3.3404, -2.2818, -3.3960],\n",
      "        [-1.3727, -3.6119, -1.7355]])\n"
     ]
    }
   ],
   "execution_count": 50
  },
  {
   "metadata": {
    "ExecuteTime": {
     "end_time": "2025-07-10T09:41:31.938420Z",
     "start_time": "2025-07-10T09:41:31.923744Z"
    }
   },
   "cell_type": "code",
   "source": [
    "x=torch.arange(6)\n",
    "describe(x)"
   ],
   "id": "6dd198a50fc155ca",
   "outputs": [
    {
     "name": "stdout",
     "output_type": "stream",
     "text": [
      "Type:  torch.LongTensor\n",
      "Shape/size: torch.Size([6])\n",
      "Values: \n",
      "tensor([0, 1, 2, 3, 4, 5])\n"
     ]
    }
   ],
   "execution_count": 51
  },
  {
   "metadata": {
    "ExecuteTime": {
     "end_time": "2025-07-10T09:41:52.059418Z",
     "start_time": "2025-07-10T09:41:52.053522Z"
    }
   },
   "cell_type": "code",
   "source": [
    "x=x.view(2,3)\n",
    "describe(x)"
   ],
   "id": "2ab6f215f73cd7a2",
   "outputs": [
    {
     "name": "stdout",
     "output_type": "stream",
     "text": [
      "Type:  torch.LongTensor\n",
      "Shape/size: torch.Size([2, 3])\n",
      "Values: \n",
      "tensor([[0, 1, 2],\n",
      "        [3, 4, 5]])\n"
     ]
    }
   ],
   "execution_count": 52
  },
  {
   "metadata": {
    "ExecuteTime": {
     "end_time": "2025-07-10T09:42:53.637637Z",
     "start_time": "2025-07-10T09:42:53.628108Z"
    }
   },
   "cell_type": "code",
   "source": "describe(torch.sum(x,dim=0))",
   "id": "fb2b26ddc061d6f8",
   "outputs": [
    {
     "name": "stdout",
     "output_type": "stream",
     "text": [
      "Type:  torch.LongTensor\n",
      "Shape/size: torch.Size([3])\n",
      "Values: \n",
      "tensor([3, 5, 7])\n"
     ]
    }
   ],
   "execution_count": 54
  },
  {
   "metadata": {
    "ExecuteTime": {
     "end_time": "2025-07-10T09:43:09.390772Z",
     "start_time": "2025-07-10T09:43:09.385272Z"
    }
   },
   "cell_type": "code",
   "source": "describe(torch.sum(x,dim=1))",
   "id": "93bb2bd2957f86a4",
   "outputs": [
    {
     "name": "stdout",
     "output_type": "stream",
     "text": [
      "Type:  torch.LongTensor\n",
      "Shape/size: torch.Size([2])\n",
      "Values: \n",
      "tensor([ 3, 12])\n"
     ]
    }
   ],
   "execution_count": 55
  },
  {
   "metadata": {
    "ExecuteTime": {
     "end_time": "2025-07-10T09:43:42.258621Z",
     "start_time": "2025-07-10T09:43:42.238910Z"
    }
   },
   "cell_type": "code",
   "source": "describe(torch.transpose(x,0,1))",
   "id": "1e654ee5b0ca690",
   "outputs": [
    {
     "name": "stdout",
     "output_type": "stream",
     "text": [
      "Type:  torch.LongTensor\n",
      "Shape/size: torch.Size([3, 2])\n",
      "Values: \n",
      "tensor([[0, 3],\n",
      "        [1, 4],\n",
      "        [2, 5]])\n"
     ]
    }
   ],
   "execution_count": 56
  },
  {
   "metadata": {},
   "cell_type": "markdown",
   "source": "### Indexing, Slicing, and Joining",
   "id": "64f916461561036b"
  },
  {
   "metadata": {
    "ExecuteTime": {
     "end_time": "2025-07-10T09:46:08.331812Z",
     "start_time": "2025-07-10T09:46:08.269009Z"
    }
   },
   "cell_type": "code",
   "source": [
    "x=torch.arange(6).view(2,3)\n",
    "describe(x)"
   ],
   "id": "a9e0a841028ab84d",
   "outputs": [
    {
     "name": "stdout",
     "output_type": "stream",
     "text": [
      "Type:  torch.LongTensor\n",
      "Shape/size: torch.Size([2, 3])\n",
      "Values: \n",
      "tensor([[0, 1, 2],\n",
      "        [3, 4, 5]])\n"
     ]
    }
   ],
   "execution_count": 57
  },
  {
   "metadata": {
    "ExecuteTime": {
     "end_time": "2025-07-10T09:46:45.341746Z",
     "start_time": "2025-07-10T09:46:45.330542Z"
    }
   },
   "cell_type": "code",
   "source": "describe(x[:1,:2])",
   "id": "8e90613d94cf0882",
   "outputs": [
    {
     "name": "stdout",
     "output_type": "stream",
     "text": [
      "Type:  torch.LongTensor\n",
      "Shape/size: torch.Size([1, 2])\n",
      "Values: \n",
      "tensor([[0, 1]])\n"
     ]
    }
   ],
   "execution_count": 59
  },
  {
   "metadata": {
    "ExecuteTime": {
     "end_time": "2025-07-10T09:47:50.005248Z",
     "start_time": "2025-07-10T09:47:49.988553Z"
    }
   },
   "cell_type": "code",
   "source": "describe(x[:2,:2])",
   "id": "33862b55f5c5f814",
   "outputs": [
    {
     "name": "stdout",
     "output_type": "stream",
     "text": [
      "Type:  torch.LongTensor\n",
      "Shape/size: torch.Size([2, 2])\n",
      "Values: \n",
      "tensor([[0, 1],\n",
      "        [3, 4]])\n"
     ]
    }
   ],
   "execution_count": 61
  },
  {
   "metadata": {
    "ExecuteTime": {
     "end_time": "2025-07-10T09:48:20.219424Z",
     "start_time": "2025-07-10T09:48:20.210466Z"
    }
   },
   "cell_type": "code",
   "source": "describe(x[0,1])",
   "id": "f460203c198a3ea5",
   "outputs": [
    {
     "name": "stdout",
     "output_type": "stream",
     "text": [
      "Type:  torch.LongTensor\n",
      "Shape/size: torch.Size([])\n",
      "Values: \n",
      "1\n"
     ]
    }
   ],
   "execution_count": 62
  },
  {
   "metadata": {
    "ExecuteTime": {
     "end_time": "2025-07-10T09:49:54.689203Z",
     "start_time": "2025-07-10T09:49:54.671734Z"
    }
   },
   "cell_type": "code",
   "source": [
    "indices=torch.LongTensor([0,2])\n",
    "describe(torch.index_select(x,dim=1,index=indices))"
   ],
   "id": "392bb5bbc34a1f25",
   "outputs": [
    {
     "name": "stdout",
     "output_type": "stream",
     "text": [
      "Type:  torch.LongTensor\n",
      "Shape/size: torch.Size([2, 2])\n",
      "Values: \n",
      "tensor([[0, 2],\n",
      "        [3, 5]])\n"
     ]
    }
   ],
   "execution_count": 65
  },
  {
   "metadata": {
    "ExecuteTime": {
     "end_time": "2025-07-10T09:49:20.382992Z",
     "start_time": "2025-07-10T09:49:20.355147Z"
    }
   },
   "cell_type": "code",
   "source": "",
   "id": "7e2c9a0a87fce614",
   "outputs": [
    {
     "data": {
      "text/plain": [
       "tensor([0, 2])"
      ]
     },
     "execution_count": 64,
     "metadata": {},
     "output_type": "execute_result"
    }
   ],
   "execution_count": 64
  },
  {
   "metadata": {
    "ExecuteTime": {
     "end_time": "2025-07-10T09:52:23.078875Z",
     "start_time": "2025-07-10T09:52:23.056709Z"
    }
   },
   "cell_type": "code",
   "source": [
    "row_indices=torch.arange(2).long()\n",
    "col_indices=torch.LongTensor([0,1])\n",
    "describe(x[row_indices,col_indices])"
   ],
   "id": "9e3109920f219ced",
   "outputs": [
    {
     "name": "stdout",
     "output_type": "stream",
     "text": [
      "Type:  torch.LongTensor\n",
      "Shape/size: torch.Size([2])\n",
      "Values: \n",
      "tensor([0, 4])\n"
     ]
    }
   ],
   "execution_count": 67
  },
  {
   "metadata": {
    "ExecuteTime": {
     "end_time": "2025-07-10T09:55:11.299776Z",
     "start_time": "2025-07-10T09:55:11.228501Z"
    }
   },
   "cell_type": "code",
   "source": [
    "x=torch.arange(6).view(2,3)\n",
    "describe(x)"
   ],
   "id": "4402b23cdef2b278",
   "outputs": [
    {
     "name": "stdout",
     "output_type": "stream",
     "text": [
      "Type:  torch.LongTensor\n",
      "Shape/size: torch.Size([2, 3])\n",
      "Values: \n",
      "tensor([[0, 1, 2],\n",
      "        [3, 4, 5]])\n"
     ]
    }
   ],
   "execution_count": 68
  },
  {
   "metadata": {
    "ExecuteTime": {
     "end_time": "2025-07-10T09:55:57.058498Z",
     "start_time": "2025-07-10T09:55:57.031939Z"
    }
   },
   "cell_type": "code",
   "source": "describe(torch.cat([x,x],dim=0))",
   "id": "7a98650f098f9d2e",
   "outputs": [
    {
     "name": "stdout",
     "output_type": "stream",
     "text": [
      "Type:  torch.LongTensor\n",
      "Shape/size: torch.Size([4, 3])\n",
      "Values: \n",
      "tensor([[0, 1, 2],\n",
      "        [3, 4, 5],\n",
      "        [0, 1, 2],\n",
      "        [3, 4, 5]])\n"
     ]
    }
   ],
   "execution_count": 69
  },
  {
   "metadata": {
    "ExecuteTime": {
     "end_time": "2025-07-10T09:57:15.913281Z",
     "start_time": "2025-07-10T09:57:15.883558Z"
    }
   },
   "cell_type": "code",
   "source": "describe(torch.cat([x,x],dim=1))",
   "id": "32237a67941bfc2a",
   "outputs": [
    {
     "name": "stdout",
     "output_type": "stream",
     "text": [
      "Type:  torch.LongTensor\n",
      "Shape/size: torch.Size([2, 6])\n",
      "Values: \n",
      "tensor([[0, 1, 2, 0, 1, 2],\n",
      "        [3, 4, 5, 3, 4, 5]])\n"
     ]
    }
   ],
   "execution_count": 70
  },
  {
   "metadata": {
    "ExecuteTime": {
     "end_time": "2025-07-10T09:58:01.506386Z",
     "start_time": "2025-07-10T09:58:01.489878Z"
    }
   },
   "cell_type": "code",
   "source": "describe(torch.stack([x,x]))",
   "id": "9490d097a40039b4",
   "outputs": [
    {
     "name": "stdout",
     "output_type": "stream",
     "text": [
      "Type:  torch.LongTensor\n",
      "Shape/size: torch.Size([2, 2, 3])\n",
      "Values: \n",
      "tensor([[[0, 1, 2],\n",
      "         [3, 4, 5]],\n",
      "\n",
      "        [[0, 1, 2],\n",
      "         [3, 4, 5]]])\n"
     ]
    }
   ],
   "execution_count": 71
  },
  {
   "metadata": {
    "ExecuteTime": {
     "end_time": "2025-07-10T10:00:25.540537Z",
     "start_time": "2025-07-10T10:00:25.532089Z"
    }
   },
   "cell_type": "code",
   "source": [
    "x1=torch.arange(6).view(2,3).float()\n",
    "describe(x)"
   ],
   "id": "301f7e4dac648af2",
   "outputs": [
    {
     "name": "stdout",
     "output_type": "stream",
     "text": [
      "Type:  torch.LongTensor\n",
      "Shape/size: torch.Size([2, 3])\n",
      "Values: \n",
      "tensor([[0, 1, 2],\n",
      "        [3, 4, 5]])\n"
     ]
    }
   ],
   "execution_count": 76
  },
  {
   "metadata": {
    "ExecuteTime": {
     "end_time": "2025-07-10T10:00:26.319242Z",
     "start_time": "2025-07-10T10:00:26.313147Z"
    }
   },
   "cell_type": "code",
   "source": [
    "x2=torch.ones(3,2)\n",
    "x2[:,1]+=1\n",
    "describe(x2)"
   ],
   "id": "b8ecedb020f1c5a2",
   "outputs": [
    {
     "name": "stdout",
     "output_type": "stream",
     "text": [
      "Type:  torch.FloatTensor\n",
      "Shape/size: torch.Size([3, 2])\n",
      "Values: \n",
      "tensor([[1., 2.],\n",
      "        [1., 2.],\n",
      "        [1., 2.]])\n"
     ]
    }
   ],
   "execution_count": 77
  },
  {
   "metadata": {
    "ExecuteTime": {
     "end_time": "2025-07-10T10:00:26.944172Z",
     "start_time": "2025-07-10T10:00:26.920574Z"
    }
   },
   "cell_type": "code",
   "source": "describe(torch.mm(x1,x2))",
   "id": "59f5e2b8ff3741d7",
   "outputs": [
    {
     "name": "stdout",
     "output_type": "stream",
     "text": [
      "Type:  torch.FloatTensor\n",
      "Shape/size: torch.Size([2, 2])\n",
      "Values: \n",
      "tensor([[ 3.,  6.],\n",
      "        [12., 24.]])\n"
     ]
    }
   ],
   "execution_count": 78
  },
  {
   "metadata": {
    "ExecuteTime": {
     "end_time": "2025-07-10T10:08:59.580150Z",
     "start_time": "2025-07-10T10:08:59.572734Z"
    }
   },
   "cell_type": "code",
   "source": [
    "x=torch.ones(2,2,requires_grad=True)\n",
    "describe(x)\n",
    "print(x.grad is None)"
   ],
   "id": "fa53a6f06c26f0fa",
   "outputs": [
    {
     "name": "stdout",
     "output_type": "stream",
     "text": [
      "Type:  torch.FloatTensor\n",
      "Shape/size: torch.Size([2, 2])\n",
      "Values: \n",
      "tensor([[1., 1.],\n",
      "        [1., 1.]], requires_grad=True)\n",
      "True\n"
     ]
    }
   ],
   "execution_count": 85
  },
  {
   "metadata": {
    "ExecuteTime": {
     "end_time": "2025-07-10T10:17:40.590469Z",
     "start_time": "2025-07-10T10:17:40.578271Z"
    }
   },
   "cell_type": "code",
   "source": [
    "y = (x + 2) * (x + 5) + 3\n",
    "describe(y)\n",
    "print(x.grad is None)"
   ],
   "id": "215ec2ab286ef649",
   "outputs": [
    {
     "name": "stdout",
     "output_type": "stream",
     "text": [
      "Type:  torch.FloatTensor\n",
      "Shape/size: torch.Size([2, 2])\n",
      "Values: \n",
      "tensor([[21., 21.],\n",
      "        [21., 21.]], grad_fn=<AddBackward0>)\n",
      "True\n"
     ]
    }
   ],
   "execution_count": 89
  },
  {
   "metadata": {
    "ExecuteTime": {
     "end_time": "2025-07-10T10:18:45.297348Z",
     "start_time": "2025-07-10T10:18:45.237922Z"
    }
   },
   "cell_type": "code",
   "source": [
    "z=y.mean()\n",
    "describe(z)\n",
    "z.backward()\n",
    "print(x.grad is None)"
   ],
   "id": "51013350ddefb363",
   "outputs": [
    {
     "name": "stdout",
     "output_type": "stream",
     "text": [
      "Type:  torch.FloatTensor\n",
      "Shape/size: torch.Size([])\n",
      "Values: \n",
      "21.0\n",
      "False\n"
     ]
    }
   ],
   "execution_count": 92
  },
  {
   "metadata": {
    "ExecuteTime": {
     "end_time": "2025-07-10T10:26:47.093036Z",
     "start_time": "2025-07-10T10:26:47.051534Z"
    }
   },
   "cell_type": "code",
   "source": [
    "x=torch.randn(1,2,requires_grad=True)\n",
    "describe(x)\n",
    "y=(x**2)+2\n",
    "z=y.sum()\n",
    "\n",
    "describe(y)\n",
    "z.backward()\n"
   ],
   "id": "ff7767bedec6a3ca",
   "outputs": [
    {
     "name": "stdout",
     "output_type": "stream",
     "text": [
      "Type:  torch.FloatTensor\n",
      "Shape/size: torch.Size([1, 2])\n",
      "Values: \n",
      "tensor([[ 1.3828, -0.3535]], requires_grad=True)\n",
      "Type:  torch.FloatTensor\n",
      "Shape/size: torch.Size([1, 2])\n",
      "Values: \n",
      "tensor([[3.9123, 2.1249]], grad_fn=<AddBackward0>)\n"
     ]
    }
   ],
   "execution_count": 102
  },
  {
   "metadata": {
    "ExecuteTime": {
     "end_time": "2025-07-10T10:30:35.313086Z",
     "start_time": "2025-07-10T10:30:35.269085Z"
    }
   },
   "cell_type": "code",
   "source": [
    "device = torch.device(\"cuda\" if torch.cuda.is_available() else \"cpu\")\n",
    "print (device)"
   ],
   "id": "84b32335207fe2a1",
   "outputs": [
    {
     "name": "stdout",
     "output_type": "stream",
     "text": [
      "cpu\n"
     ]
    }
   ],
   "execution_count": 103
  },
  {
   "metadata": {},
   "cell_type": "code",
   "outputs": [],
   "execution_count": null,
   "source": "",
   "id": "5291fad9875b526a"
  }
 ],
 "metadata": {
  "kernelspec": {
   "display_name": "Python 3",
   "language": "python",
   "name": "python3"
  },
  "language_info": {
   "codemirror_mode": {
    "name": "ipython",
    "version": 2
   },
   "file_extension": ".py",
   "mimetype": "text/x-python",
   "name": "python",
   "nbconvert_exporter": "python",
   "pygments_lexer": "ipython2",
   "version": "2.7.6"
  }
 },
 "nbformat": 4,
 "nbformat_minor": 5
}
