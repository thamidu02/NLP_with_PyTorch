{
 "cells": [
  {
   "metadata": {},
   "cell_type": "markdown",
   "source": "## Tokenization",
   "id": "698efe535d864998"
  },
  {
   "metadata": {
    "ExecuteTime": {
     "end_time": "2025-07-11T15:26:17.491118Z",
     "start_time": "2025-07-11T15:26:13.953401Z"
    }
   },
   "cell_type": "code",
   "source": [
    "from nltk import TweetTokenizer\n",
    "tweet=u\"Snow White and the Seven Degrees #MakeAMovieCold@midnight:-)\"\n",
    "tokenizer=TweetTokenizer()\n",
    "print(tokenizer.tokenize(tweet.lower()))"
   ],
   "id": "a8f28cd377403f48",
   "outputs": [
    {
     "name": "stdout",
     "output_type": "stream",
     "text": [
      "['snow', 'white', 'and', 'the', 'seven', 'degrees', '#makeamoviecold', '@midnight', ':-)']\n"
     ]
    }
   ],
   "execution_count": 4
  },
  {
   "metadata": {
    "ExecuteTime": {
     "end_time": "2025-07-11T15:35:02.351257Z",
     "start_time": "2025-07-11T15:35:02.271398Z"
    }
   },
   "cell_type": "code",
   "source": [
    "from nltk import NLTKWordTokenizer\n",
    "\n",
    "tokenizer=NLTKWordTokenizer()\n",
    "text=\"Hello I'm Thamidu and I don't like spicy food.\"\n",
    "print(tokenizer.tokenize(text))"
   ],
   "id": "2ab29f43e44ec871",
   "outputs": [
    {
     "name": "stdout",
     "output_type": "stream",
     "text": [
      "['Hello', 'I', \"'m\", 'Thamidu', 'and', 'I', 'do', \"n't\", 'like', 'spicy', 'food', '.']\n"
     ]
    }
   ],
   "execution_count": 5
  },
  {
   "metadata": {
    "ExecuteTime": {
     "end_time": "2025-07-11T15:38:05.830430Z",
     "start_time": "2025-07-11T15:38:05.805366Z"
    }
   },
   "cell_type": "code",
   "source": [
    "def n_grams(t,n):\n",
    "\n",
    "    return [t[i:i+n] for i in range(len(t)-n+1)]\n",
    "\n",
    "\n",
    "t=tokenizer.tokenize(text)\n",
    "print(n_grams(t,3))"
   ],
   "id": "9959e1e4b65fc4c6",
   "outputs": [
    {
     "name": "stdout",
     "output_type": "stream",
     "text": [
      "[['Hello', 'I', \"'m\"], ['I', \"'m\", 'Thamidu'], [\"'m\", 'Thamidu', 'and'], ['Thamidu', 'and', 'I'], ['and', 'I', 'do'], ['I', 'do', \"n't\"], ['do', \"n't\", 'like'], [\"n't\", 'like', 'spicy'], ['like', 'spicy', 'food'], ['spicy', 'food', '.']]\n"
     ]
    }
   ],
   "execution_count": 6
  },
  {
   "metadata": {
    "ExecuteTime": {
     "end_time": "2025-07-11T15:41:45.965692Z",
     "start_time": "2025-07-11T15:41:45.448997Z"
    }
   },
   "cell_type": "code",
   "source": [
    "import spacy\n",
    "nlp=spacy.load(\"en_core_web_sm\")\n",
    "doc = nlp(u\"he was running late\")\n",
    "for token in doc:\n",
    "    print('{} --> {}'.format(token, token.lemma_))"
   ],
   "id": "7f4573c9632db9c2",
   "outputs": [
    {
     "name": "stdout",
     "output_type": "stream",
     "text": [
      "he --> he\n",
      "was --> be\n",
      "running --> run\n",
      "late --> late\n"
     ]
    }
   ],
   "execution_count": 9
  },
  {
   "metadata": {
    "ExecuteTime": {
     "end_time": "2025-07-11T16:04:43.700803Z",
     "start_time": "2025-07-11T16:04:43.605429Z"
    }
   },
   "cell_type": "code",
   "source": [
    "from nltk.stem import PorterStemmer\n",
    "stemmer=PorterStemmer()\n",
    "words = [\"run\", \"running\", \"runner\", \"ran\", \"runs\",\"Studying\",\"flies\"]\n",
    "\n",
    "for token in words:\n",
    "    print('{} ---> {}'.format(token,stemmer.stem(token)))\n",
    "\n"
   ],
   "id": "d84ea63d165384f6",
   "outputs": [
    {
     "name": "stdout",
     "output_type": "stream",
     "text": [
      "run ---> run\n",
      "running ---> run\n",
      "runner ---> runner\n",
      "ran ---> ran\n",
      "runs ---> run\n",
      "Studying ---> studi\n",
      "flies ---> fli\n"
     ]
    }
   ],
   "execution_count": 13
  },
  {
   "metadata": {
    "ExecuteTime": {
     "end_time": "2025-07-11T16:06:08.845596Z",
     "start_time": "2025-07-11T16:06:05.082902Z"
    }
   },
   "cell_type": "code",
   "source": [
    "from nltk.stem import WordNetLemmatizer\n",
    "lemma=WordNetLemmatizer()\n",
    "\n",
    "for token in words:\n",
    "    print(\"{} ---> {}\".format(token,lemma.lemmatize(token)))"
   ],
   "id": "dfe97a2c30fb07c",
   "outputs": [
    {
     "name": "stdout",
     "output_type": "stream",
     "text": [
      "run ---> run\n",
      "running ---> running\n",
      "runner ---> runner\n",
      "ran ---> ran\n",
      "runs ---> run\n",
      "Studying ---> Studying\n",
      "flies ---> fly\n"
     ]
    }
   ],
   "execution_count": 14
  },
  {
   "metadata": {
    "ExecuteTime": {
     "end_time": "2025-07-11T16:57:44.419463Z",
     "start_time": "2025-07-11T16:57:44.345621Z"
    }
   },
   "cell_type": "code",
   "source": [
    "\n",
    "# part of speech(POS) tagging\n",
    "\n",
    "for token in doc:\n",
    "    print(\"{} ----> {}\".format(token,token.pos_))"
   ],
   "id": "54f7826bba7b54af",
   "outputs": [
    {
     "name": "stdout",
     "output_type": "stream",
     "text": [
      "he ----> PRON\n",
      "was ----> AUX\n",
      "running ----> VERB\n",
      "late ----> ADV\n"
     ]
    }
   ],
   "execution_count": 15
  },
  {
   "metadata": {},
   "cell_type": "code",
   "outputs": [],
   "execution_count": null,
   "source": "",
   "id": "db857fad5225ad88"
  }
 ],
 "metadata": {
  "kernelspec": {
   "display_name": "Python 3",
   "language": "python",
   "name": "python3"
  },
  "language_info": {
   "codemirror_mode": {
    "name": "ipython",
    "version": 2
   },
   "file_extension": ".py",
   "mimetype": "text/x-python",
   "name": "python",
   "nbconvert_exporter": "python",
   "pygments_lexer": "ipython2",
   "version": "2.7.6"
  }
 },
 "nbformat": 4,
 "nbformat_minor": 5
}
